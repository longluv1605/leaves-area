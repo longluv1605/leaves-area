{
 "cells": [
  {
   "cell_type": "code",
   "execution_count": 3,
   "id": "2ec54802",
   "metadata": {},
   "outputs": [
    {
     "name": "stdout",
     "output_type": "stream",
     "text": [
      "Total area in pixels: 117151.50\n",
      "Total area in mm²: 18141.71\n",
      "Processed and saved result for test_images/im1.jpg to results\\baseline\\result1.png\n",
      "###########################################################\n",
      "Total area in pixels: 904021.50\n",
      "Total area in mm²: 32543.22\n",
      "Processed and saved result for test_images/im2.jpg to results\\baseline\\result2.png\n",
      "###########################################################\n",
      "Total area in pixels: 30767.00\n",
      "Total area in mm²: 1446.61\n",
      "Processed and saved result for test_images/im3.jpg to results\\baseline\\result3.png\n",
      "###########################################################\n"
     ]
    }
   ],
   "source": [
    "! python src/baseline/main.py"
   ]
  },
  {
   "cell_type": "code",
   "execution_count": null,
   "id": "139e701e",
   "metadata": {},
   "outputs": [],
   "source": []
  }
 ],
 "metadata": {
  "kernelspec": {
   "display_name": "base",
   "language": "python",
   "name": "python3"
  },
  "language_info": {
   "codemirror_mode": {
    "name": "ipython",
    "version": 3
   },
   "file_extension": ".py",
   "mimetype": "text/x-python",
   "name": "python",
   "nbconvert_exporter": "python",
   "pygments_lexer": "ipython3",
   "version": "3.12.9"
  }
 },
 "nbformat": 4,
 "nbformat_minor": 5
}
